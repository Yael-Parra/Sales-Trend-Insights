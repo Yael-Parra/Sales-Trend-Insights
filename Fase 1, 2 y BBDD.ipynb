{
 "cells": [
  {
   "cell_type": "markdown",
   "metadata": {},
   "source": [
    "# <center>Fase 1 y 2: </center>\n",
    "_____\n",
    "______\n",
    "## <span style=\"color:#f7e85f\">**EDA + Limpieza de datos**</span>\n"
   ]
  },
  {
   "cell_type": "markdown",
   "metadata": {},
   "source": [
    "###  📚 Importar <span style=\"color:#f7e85f\">Librerías</span> y Comprobando <span style=\"color:#f7e85f\">Visualizaciones</span>"
   ]
  },
  {
   "cell_type": "code",
   "execution_count": 1,
   "metadata": {},
   "outputs": [],
   "source": [
    "# Importar librerías y extender visualización\n",
    "import pandas as pd\n",
    "import numpy as np\n",
    "import re \n",
    "\n",
    "import matplotlib.pyplot as plt\n",
    "import matplotlib.cm as cm\n",
    "import matplotlib.image as mpimg\n",
    "import seaborn as sns\n",
    "\n",
    "import scipy.stats as stats\n",
    "from scipy.stats import shapiro, poisson, chisquare, expon, kstest, ttest_ind, norm, chi2_contingency, f_oneway, chi2_contingency, mannwhitneyu, kruskal, kendalltau\n",
    "\n",
    "from sklearn.linear_model import LinearRegression\n",
    "from sklearn.impute import SimpleImputer\n",
    "from sklearn.experimental import enable_iterative_imputer\n",
    "from sklearn.impute import IterativeImputer\n",
    "from sklearn.impute import KNNImputer\n",
    "\n",
    "import mysql.connector\n",
    "from mysql.connector import errorcode\n",
    "\n",
    "# -----------------------------------------------------------------------\n",
    "# Gestión de los warnings\n",
    "import warnings\n",
    "warnings.filterwarnings(\"ignore\")\n",
    "\n",
    "\n",
    "\n",
    "# -----------------------------------------------------------------------\n",
    "# Comprobando que el display sea el máximo para mostrar mejor el data frame\n",
    "pd.set_option(\"display.max_rows\", None)  # Cambia el número máximo de filas mostradas\n",
    "pd.set_option(\"display.max_columns\", None)  # Cambia el número máximo de columnas mostradas\n",
    "pd.set_option(\"display.max_colwidth\", None)  # Cambia el ancho máximo de la pantalla"
   ]
  },
  {
   "cell_type": "markdown",
   "metadata": {},
   "source": [
    "###  📖 <span style=\"color:#f7e85f\">Leer archivos</span>"
   ]
  },
  {
   "cell_type": "code",
   "execution_count": 2,
   "metadata": {},
   "outputs": [],
   "source": [
    "df_clientes = pd.read_csv(r\"C:\\Users\\yaelp\\Desktop\\Adalab\\Proyectos grupo\\Proyecto_04\\clientes.csv\")\n",
    "df_productos = pd.read_csv(r\"C:\\Users\\yaelp\\Desktop\\Adalab\\Proyectos grupo\\Proyecto_04\\productos.csv\")\n",
    "df_ventas = pd.read_csv(r\"C:\\Users\\yaelp\\Desktop\\Adalab\\Proyectos grupo\\Proyecto_04\\ventas.csv\")"
   ]
  },
  {
   "cell_type": "markdown",
   "metadata": {},
   "source": [
    "### 🧼 <span style=\"color:#f7e85f\">Limpieza de datos</span>"
   ]
  },
  {
   "cell_type": "markdown",
   "metadata": {},
   "source": [
    "* Hacer cambios en <span style=\"color:#f7e85f\">**df_productos**</span>\n",
    "    * En la columna precio, hay que quitar el metacaracter de euros € y mandar a float\n",
    "    * Hay 600 nulos en la columna precio"
   ]
  },
  {
   "cell_type": "code",
   "execution_count": 3,
   "metadata": {},
   "outputs": [
    {
     "data": {
      "text/plain": [
       "id_producto     object\n",
       "precio         float64\n",
       "categoria       object\n",
       "descripcion     object\n",
       "dtype: object"
      ]
     },
     "execution_count": 3,
     "metadata": {},
     "output_type": "execute_result"
    }
   ],
   "source": [
    "# Quitar metacaracter de euro € ---------------------------------------------------------------------------------\n",
    "\n",
    "columnas1 = [\"precio\"]\n",
    "def cambiar_simbolo(columnas):\n",
    "    try:\n",
    "        return columnas.str.replace(\"€\",\"\").str.replace(\",\", \"\").str.strip()\n",
    "    except:\n",
    "        return np.nan\n",
    "for columna in columnas1:\n",
    "    df_productos[columna] = cambiar_simbolo(df_productos[columna])\n",
    "\n",
    "df_productos.head()\n",
    "# Cambiar de objeto a float -------------------------------------------------------------------------------------\n",
    "df_productos[\"precio\"] = df_productos[\"precio\"].astype(float)\n",
    "\n",
    "df_productos.dtypes"
   ]
  },
  {
   "cell_type": "markdown",
   "metadata": {},
   "source": [
    "* Hacer cambios en <span style=\"color:#f7e85f\">**df_clientes**</span>\n",
    "    * Crear columna nueva llamada \"pais\"\n",
    "        * Traer después de la coma de ciudad todo\n",
    "    * Editar columna ciudad\n",
    "        * eliminar todo después de la coma"
   ]
  },
  {
   "cell_type": "code",
   "execution_count": 4,
   "metadata": {},
   "outputs": [],
   "source": [
    "# Crear columna pais -------------------------------------------------------------------------------------------\n",
    "df_clientes[\"pais\"] = df_clientes['ciudad'].apply(lambda x: x.split(',')[-1].strip())\n",
    "# Editar columna ciudad ----------------------------------------------------------------------------------------\n",
    "df_clientes['ciudad'] = df_clientes['ciudad'].str.split(',').str[0]"
   ]
  },
  {
   "cell_type": "markdown",
   "metadata": {},
   "source": [
    "* Guardando los <span style=\"color:#f7e85f\">**CSVs Limpios**</span>"
   ]
  },
  {
   "cell_type": "code",
   "execution_count": 5,
   "metadata": {},
   "outputs": [],
   "source": [
    "df_clientes.to_csv(\"clientes_limpio.csv\")\n",
    "df_ventas.to_csv(\"ventas_limpio.csv\")\n",
    "df_productos.to_csv(\"productos_limpio.csv\")"
   ]
  },
  {
   "cell_type": "markdown",
   "metadata": {},
   "source": [
    "# <center>**Bonus BBDD**: </center>\n",
    "______\n",
    "_____"
   ]
  },
  {
   "cell_type": "markdown",
   "metadata": {},
   "source": [
    "### 🔗 Conectar crear <span style=\"color:#f7e85f\">**BBDD + Tablas**</span>"
   ]
  },
  {
   "cell_type": "code",
   "execution_count": 6,
   "metadata": {},
   "outputs": [
    {
     "name": "stdout",
     "output_type": "stream",
     "text": [
      "¡Conectado!\n",
      "Base de datos 'BBDD_DataTech_Solutions' creada correctamente.\n",
      "Base de datos seleccionada correctamente.\n",
      "Tabla 'clientes' creada.\n",
      "Tabla 'productos' creada.\n",
      "Tabla 'ventas' creada.\n",
      "Conexión MySQL cerrada.\n"
     ]
    }
   ],
   "source": [
    "def creacion_bbdd_tablas():\n",
    "    try:\n",
    "        # Conectar a MySQL Server\n",
    "        cnx = mysql.connector.connect(\n",
    "            user='user_name',       \n",
    "            password='password',  \n",
    "            host='host'   \n",
    "        )\n",
    "# ------------------------------------------------------------------------------\n",
    "        if cnx.is_connected():\n",
    "            print(\"¡Conectado!\")\n",
    "\n",
    "            mycursor = cnx.cursor()\n",
    "\n",
    "            # Crear la base de datos si no existe\n",
    "            mycursor.execute(\"CREATE DATABASE IF NOT EXISTS BBDD_DataTech_Solutions\")\n",
    "            print(\"Base de datos 'BBDD_DataTech_Solutions' creada correctamente.\")\n",
    "\n",
    "            # Usar la base de datos\n",
    "            try:\n",
    "                mycursor.execute(\"USE BBDD_DataTech_Solutions\")\n",
    "                print(\"Base de datos seleccionada correctamente.\")\n",
    "            except mysql.connector.Error as err:\n",
    "                print(\"Error al seleccionar la base de datos.\")\n",
    "                print(\"Código de Error:\", err.errno)\n",
    "                print(\"SQLSTATE:\", err.sqlstate)\n",
    "                print(\"Mensaje:\", err.msg)\n",
    "# ------------------------------------------------------------------------------\n",
    "# Crear la tabla de 'clientes'\n",
    "\n",
    "            mycursor.execute(\"\"\"\n",
    "                CREATE TABLE IF NOT EXISTS clientes (\n",
    "                    id_cliente VARCHAR (20) PRIMARY KEY,\n",
    "                    nombre VARCHAR (50),\n",
    "                    apellido VARCHAR (50), \n",
    "                    ciudad VARCHAR (50),        \n",
    "                    pais  VARCHAR (50)\n",
    "                );\n",
    "            \"\"\")\n",
    "            print(\"Tabla 'clientes' creada.\")\n",
    "# ------------------------------------------------------------------------------\n",
    "# Crear la tabla de 'productos'\n",
    "\n",
    "            mycursor.execute(\"\"\"\n",
    "                CREATE TABLE IF NOT EXISTS productos (\n",
    "                    id_producto VARCHAR (20) PRIMARY KEY,\n",
    "                    precio FLOAT,\n",
    "                    categoria VARCHAR (200), \n",
    "                    descripcion VARCHAR (300)\n",
    "                );\n",
    "            \"\"\")\n",
    "            print(\"Tabla 'productos' creada.\")\n",
    "# ------------------------------------------------------------------------------\n",
    "# Crear la tabla de 'ventas'\n",
    "\n",
    "            mycursor.execute(\"\"\"\n",
    "                CREATE TABLE IF NOT EXISTS ventas (\n",
    "                    id_venta VARCHAR (20),\n",
    "                    id_producto VARCHAR (20),\n",
    "                    cantidad INT, \n",
    "                    fecha DATETIME,\n",
    "                    id_cliente VARCHAR (20),\n",
    "                    FOREIGN KEY (id_producto) REFERENCES productos(id_producto),\n",
    "                    FOREIGN KEY (id_cliente) REFERENCES clientes(id_cliente)\n",
    "                );\n",
    "            \"\"\")\n",
    "            print(\"Tabla 'ventas' creada.\")\n",
    "# -----------------------------------------------------------------------------\n",
    "    except mysql.connector.Error as err:\n",
    "        print(\"Se produjo un error al crear la tabla.\")\n",
    "        print(\"Código de Error:\", err.errno)\n",
    "        print(\"SQLSTATE:\", err.sqlstate)\n",
    "        print(\"Mensaje:\", err.msg)\n",
    "# ------------------------------------------------------------------------------\n",
    "    finally:\n",
    "        if cnx.is_connected():\n",
    "            mycursor.close()\n",
    "            cnx.close()\n",
    "            print(\"Conexión MySQL cerrada.\")\n",
    "\n",
    "# ------------------------------------------------------------------------------\n",
    "# Ejecutar la función para crear la base de datos y tablas\n",
    "creacion_bbdd_tablas()"
   ]
  },
  {
   "cell_type": "markdown",
   "metadata": {},
   "source": [
    "### 🔄 Pasar a <span style=\"color:#f7e85f\">**Lista de Tuplas**</span>"
   ]
  },
  {
   "cell_type": "code",
   "execution_count": 7,
   "metadata": {},
   "outputs": [],
   "source": [
    "lista_tuplas_clientes = [tuple(row) for row in df_clientes.itertuples(index=False, name=None)]\n",
    "lista_tuplas_productos = [tuple(row) for row in df_productos.itertuples(index=False, name=None)]\n",
    "lista_tuplas_ventas = [tuple(row) for row in df_ventas.itertuples(index=False, name=None)]\n"
   ]
  },
  {
   "cell_type": "markdown",
   "metadata": {},
   "source": [
    "### ➕ <span style=\"color:#f7e85f\">**Insertar Datos**</span>"
   ]
  },
  {
   "cell_type": "markdown",
   "metadata": {},
   "source": [
    "* <span style=\"color:#f7e85f\">Conectar</span> con la BBDD"
   ]
  },
  {
   "cell_type": "code",
   "execution_count": 8,
   "metadata": {},
   "outputs": [
    {
     "name": "stdout",
     "output_type": "stream",
     "text": [
      "Base de datos seleccionada correctamente.\n"
     ]
    }
   ],
   "source": [
    "# Conectar a MySQL Server\n",
    "cnx = mysql.connector.connect(\n",
    "    user='user_name',\n",
    "    password='psssword',\n",
    "    host='host'\n",
    ")\n",
    "\n",
    "mycursor = cnx.cursor()\n",
    "\n",
    "# Usar la base de datos\n",
    "try:\n",
    "    mycursor.execute(\"USE BBDD_DataTech_Solutions\")\n",
    "    print(\"Base de datos seleccionada correctamente.\")\n",
    "except mysql.connector.Error as err:\n",
    "    print(\"Error al seleccionar la base de datos.\")\n",
    "    print(\"Código de Error:\", err.errno)\n",
    "    print(\"SQLSTATE:\", err.sqlstate)\n",
    "    print(\"Mensaje:\", err.msg)"
   ]
  },
  {
   "cell_type": "markdown",
   "metadata": {},
   "source": [
    "* Tabla <span style=\"color:#f7e85f\">clientes</span>"
   ]
  },
  {
   "cell_type": "code",
   "execution_count": 9,
   "metadata": {},
   "outputs": [
    {
     "name": "stdout",
     "output_type": "stream",
     "text": [
      "300 registros insertados.\n"
     ]
    }
   ],
   "source": [
    "sql = (\"INSERT INTO clientes (id_cliente, nombre, apellido, ciudad, pais) VALUES (%s, %s, %s, %s, %s)\")\n",
    "\n",
    "val = lista_tuplas_clientes\n",
    "\n",
    "try: \n",
    "    mycursor.executemany(sql, val)\n",
    "    cnx.commit()\n",
    "    print(mycursor.rowcount, \"registros insertados.\")\n",
    "\n",
    "except mysql.connector.Error as err:\n",
    "    print(err)\n",
    "    print(\"Error Code:\", err.errno)\n",
    "    print(\"SQLSTATE\", err.sqlstate)\n",
    "    print(\"Message\", err.msg)"
   ]
  },
  {
   "cell_type": "markdown",
   "metadata": {},
   "source": [
    "* Tabla <span style=\"color:#f7e85f\">productos</span>"
   ]
  },
  {
   "cell_type": "code",
   "execution_count": 10,
   "metadata": {},
   "outputs": [
    {
     "name": "stdout",
     "output_type": "stream",
     "text": [
      "600 registros insertados.\n"
     ]
    }
   ],
   "source": [
    "sql = (\"INSERT INTO productos (id_producto, precio, categoria, descripcion) VALUES (%s, %s, %s, %s)\")\n",
    "\n",
    "val = lista_tuplas_productos\n",
    "\n",
    "try: \n",
    "    mycursor.executemany(sql, val)\n",
    "    cnx.commit()\n",
    "    print(mycursor.rowcount, \"registros insertados.\")\n",
    "\n",
    "except mysql.connector.Error as err:\n",
    "    print(err)\n",
    "    print(\"Error Code:\", err.errno)\n",
    "    print(\"SQLSTATE\", err.sqlstate)\n",
    "    print(\"Message\", err.msg)"
   ]
  },
  {
   "cell_type": "markdown",
   "metadata": {},
   "source": [
    "* Tabla <span style=\"color:#f7e85f\">ventas</span>"
   ]
  },
  {
   "cell_type": "code",
   "execution_count": 11,
   "metadata": {},
   "outputs": [
    {
     "name": "stdout",
     "output_type": "stream",
     "text": [
      "80000 registros insertados.\n"
     ]
    }
   ],
   "source": [
    "sql = (\"INSERT INTO ventas (id_venta, id_producto, cantidad, fecha, id_cliente) VALUES (%s, %s, %s, %s, %s)\")\n",
    "\n",
    "val = lista_tuplas_ventas\n",
    "\n",
    "try: \n",
    "    mycursor.executemany(sql, val)\n",
    "    cnx.commit()\n",
    "    print(mycursor.rowcount, \"registros insertados.\")\n",
    "\n",
    "except mysql.connector.Error as err:\n",
    "    print(err)\n",
    "    print(\"Error Code:\", err.errno)\n",
    "    print(\"SQLSTATE\", err.sqlstate)\n",
    "    print(\"Message\", err.msg)"
   ]
  },
  {
   "cell_type": "markdown",
   "metadata": {},
   "source": [
    "* <span style=\"color:#f7e85f\">Cerrar conexión</span> con SQL"
   ]
  },
  {
   "cell_type": "code",
   "execution_count": 12,
   "metadata": {},
   "outputs": [
    {
     "name": "stdout",
     "output_type": "stream",
     "text": [
      "Conexión cerrada correctamente.\n"
     ]
    }
   ],
   "source": [
    "# Cerrar el cursor y la conexión a la base de datos\n",
    "try:\n",
    "    # Cerrar el cursor si está abierto\n",
    "    if mycursor:\n",
    "        mycursor.close()\n",
    "    \n",
    "    # cerrar la conexión si está abierta\n",
    "    if cnx:\n",
    "        cnx.close()\n",
    "    \n",
    "    print(\"Conexión cerrada correctamente.\")\n",
    "except mysql.connector.Error as err:\n",
    "    print(\"Error al cerrar la conexión:\", err)"
   ]
  }
 ],
 "metadata": {
  "kernelspec": {
   "display_name": "base",
   "language": "python",
   "name": "python3"
  },
  "language_info": {
   "codemirror_mode": {
    "name": "ipython",
    "version": 3
   },
   "file_extension": ".py",
   "mimetype": "text/x-python",
   "name": "python",
   "nbconvert_exporter": "python",
   "pygments_lexer": "ipython3",
   "version": "3.12.4"
  }
 },
 "nbformat": 4,
 "nbformat_minor": 2
}
